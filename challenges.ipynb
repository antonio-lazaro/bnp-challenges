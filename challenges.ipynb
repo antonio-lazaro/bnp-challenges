{
 "cells": [
  {
   "cell_type": "markdown",
   "id": "639773ae-35b6-4a32-bc43-cc83f05946d1",
   "metadata": {},
   "source": [
    "<table align=\"center\">\n",
    "  <td align=\"center\"><a target=\"_blank\" href=\"https://colab.research.google.com/drive/1QOilfTem2NSeHv8i9tRq8xBE-h5E7UtY?usp=sharing\">\n",
    "        <img src=\"https://i.ibb.co/2P3SLwK/colab.png\"  style=\"padding-bottom:5px;\" />Run in Google Colab</a>\n",
    "  </td>\n",
    "</table>"
   ]
  },
  {
   "cell_type": "markdown",
   "id": "96de3382-16f1-430f-b227-6ac635b2345a",
   "metadata": {},
   "source": [
    "# Challenges"
   ]
  },
  {
   "cell_type": "code",
   "execution_count": 1,
   "id": "01576815-82b7-4ab0-821e-9948bd855ab4",
   "metadata": {},
   "outputs": [],
   "source": [
    "from math import fsum\n",
    "from collections import deque"
   ]
  },
  {
   "cell_type": "markdown",
   "id": "67310ac6-ca0c-46d1-8782-0e24b9e4a7b2",
   "metadata": {},
   "source": [
    "## Challenge 1: Balanced symbols"
   ]
  },
  {
   "cell_type": "markdown",
   "id": "e1f1aebe",
   "metadata": {},
   "source": [
    "The challenge has been solved using a **stack**."
   ]
  },
  {
   "cell_type": "code",
   "execution_count": 3,
   "id": "a2e21473",
   "metadata": {},
   "outputs": [],
   "source": [
    "def is_balanced(input_str):\n",
    "    \"\"\"Checks that the input string is properly balanced.\n",
    "\n",
    "    Args:\n",
    "      input_str: The string to evaluate.\n",
    "\n",
    "    Returns:\n",
    "      Boolean value indicating if the input string is balanced (true) or\n",
    "      is not balanced (false).\n",
    "    \"\"\"\n",
    "\n",
    "    if input_str is None or len(input_str) == 0:\n",
    "        return True\n",
    "\n",
    "    open_list = [\"[\", \"{\", \"(\"]\n",
    "    close_list = [\"]\", \"}\", \")\"]\n",
    "    comment_opened = False\n",
    "    unmatched_symbol_reg = None\n",
    "    stack = []\n",
    "    for i, c in enumerate(input_str):\n",
    "        if c == '/':\n",
    "            if unmatched_symbol_reg == '*':\n",
    "                comment_opened = False\n",
    "                unmatched_symbol_reg = None\n",
    "            else:\n",
    "                unmatched_symbol_reg = c\n",
    "        elif c == '*':\n",
    "            if unmatched_symbol_reg == '/':\n",
    "                comment_opened = True\n",
    "                unmatched_symbol_reg = None\n",
    "            else:\n",
    "                unmatched_symbol_reg = c\n",
    "        elif c in open_list and not comment_opened:\n",
    "            unmatched_symbol_reg = None\n",
    "            stack.append(c)\n",
    "        elif c in close_list and not comment_opened:\n",
    "            unmatched_symbol_reg = None\n",
    "            pos = close_list.index(c)\n",
    "            if ((len(stack) > 0) and\n",
    "                (open_list[pos] == stack[len(stack)-1])):\n",
    "                stack.pop()\n",
    "            else:\n",
    "                return False\n",
    "        else:\n",
    "            unmatched_symbol_reg = None\n",
    "\n",
    "    if len(stack) == 0 and not comment_opened:\n",
    "        return True\n",
    "    else:\n",
    "        return False"
   ]
  },
  {
   "cell_type": "markdown",
   "id": "6913c22e",
   "metadata": {},
   "source": [
    "### Tests"
   ]
  },
  {
   "cell_type": "code",
   "execution_count": 5,
   "id": "4446443e",
   "metadata": {},
   "outputs": [
    {
     "name": "stdout",
     "output_type": "stream",
     "text": [
      "Success!!\n"
     ]
    }
   ],
   "source": [
    "balanced_string = '(bjdshk/*/*)*/)[{}]/**/*/*' # Balanced string\n",
    "assert is_balanced(balanced_string)\n",
    "print('Success!!')"
   ]
  },
  {
   "cell_type": "code",
   "execution_count": 6,
   "id": "7130bbe8",
   "metadata": {},
   "outputs": [
    {
     "name": "stdout",
     "output_type": "stream",
     "text": [
      "Success!!\n"
     ]
    }
   ],
   "source": [
    "unbalanced_string = '(bjdshk/*)*/ /*[{}])' # Unbalanced string\n",
    "assert not is_balanced(unbalanced_string)\n",
    "print('Success!!')"
   ]
  },
  {
   "cell_type": "code",
   "execution_count": 7,
   "id": "c7e01c3b",
   "metadata": {},
   "outputs": [
    {
     "name": "stdout",
     "output_type": "stream",
     "text": [
      "Success!!\n"
     ]
    }
   ],
   "source": [
    "assert is_balanced('') # Empty string\n",
    "assert is_balanced(None) # None value\n",
    "print('Success!!')"
   ]
  },
  {
   "cell_type": "markdown",
   "id": "0f021e21",
   "metadata": {},
   "source": [
    "### Run"
   ]
  },
  {
   "cell_type": "code",
   "execution_count": 9,
   "id": "12401cda",
   "metadata": {},
   "outputs": [
    {
     "name": "stdout",
     "output_type": "stream",
     "text": [
      "Balanced\n"
     ]
    }
   ],
   "source": [
    "input_str = \"(b[]jdshk/*/*)*/)\" # Modify\n",
    "print('Balanced' if is_balanced(input_str) else 'Unbalanced')"
   ]
  },
  {
   "cell_type": "markdown",
   "id": "f36ef4b2",
   "metadata": {},
   "source": [
    "## Challenge 2: Cost prorating"
   ]
  },
  {
   "cell_type": "markdown",
   "id": "5b551ee7",
   "metadata": {},
   "source": [
    "The challenge has been solved by exploring the change in the relative rounding error (rre) and applying the one that suppose a further improvement, reducing rre to a greater extent."
   ]
  },
  {
   "cell_type": "code",
   "execution_count": 18,
   "id": "cb2e67b2",
   "metadata": {},
   "outputs": [],
   "source": [
    "def get_distribution(cost, weights):\n",
    "    \"\"\"Checks that an input string is properly balanced.\n",
    "\n",
    "    Args:\n",
    "      cost: The initial total cost.\n",
    "      weights: List of weights\n",
    "\n",
    "    Returns:\n",
    "      Distribution of the cost proportionally to the weights.\n",
    "    \"\"\"\n",
    "    weights_sum = fsum(weights)\n",
    "    weighted_costs = [w / weights_sum * cost for w in weights]\n",
    "    rounded_costs = [int(c) for c in weighted_costs]\n",
    "\n",
    "    while sum(rounded_costs) < cost:\n",
    "        max_improve = None\n",
    "        for i, rounded_cost in enumerate(rounded_costs):\n",
    "            if weights[i] > 0:\n",
    "                # Get modified rounded cost\n",
    "                m_rounded_cost = rounded_cost + 1\n",
    "\n",
    "                # Obtain relative rounded error (rre) change\n",
    "                rre = abs(weighted_costs[i] - rounded_cost) / weights[i]\n",
    "                m_rre = abs(weighted_costs[i] - m_rounded_cost) / weights[i]\n",
    "                diff = rre - m_rre\n",
    "                if max_improve is None or diff > max_improve[1]:\n",
    "                    max_improve = (i, diff)\n",
    "\n",
    "        # Modify\n",
    "        rounded_costs[max_improve[0]] += 1\n",
    "\n",
    "    return rounded_costs"
   ]
  },
  {
   "cell_type": "markdown",
   "id": "fe9fa222",
   "metadata": {},
   "source": [
    "### Useful functions"
   ]
  },
  {
   "cell_type": "code",
   "execution_count": 3,
   "id": "37a1b95d",
   "metadata": {},
   "outputs": [],
   "source": [
    "def rre(exact_data, rounded_data, weights):\n",
    "    \"\"\"Returns the total relative rounding error\"\"\"\n",
    "    e = 0\n",
    "    for i in range(len(exact_data)):\n",
    "        if weights[i] == 0:\n",
    "            continue\n",
    "        e += abs(exact_data[i]- rounded_data[i]) / weights[i]\n",
    "    return e"
   ]
  },
  {
   "cell_type": "code",
   "execution_count": 12,
   "id": "8ae02e08",
   "metadata": {},
   "outputs": [],
   "source": [
    "# np.sum(np.abs(exact_data - rounded_data) / weights)"
   ]
  },
  {
   "cell_type": "markdown",
   "id": "f69c6a58",
   "metadata": {},
   "source": [
    "### Tests"
   ]
  },
  {
   "cell_type": "code",
   "execution_count": 19,
   "id": "8c4399cf",
   "metadata": {},
   "outputs": [
    {
     "name": "stdout",
     "output_type": "stream",
     "text": [
      "prorated costs: [9, 4, 0, 2, 0]\n",
      "rre: 0.3928571428571428\n",
      "All tests succeded!!\n"
     ]
    }
   ],
   "source": [
    "# Test data\n",
    "cost = 15\n",
    "weights = [4, 2, 0, 1, 0]\n",
    "\n",
    "# Calculate result\n",
    "result = get_distribution(cost, weights)\n",
    "print('prorated costs:', result)\n",
    "\n",
    "# Relative rounding error\n",
    "weights_sum = fsum(weights)\n",
    "weighted_costs = [w / weights_sum * cost for w in weights]\n",
    "print('rre:', rre(weighted_costs, result, weights))\n",
    "\n",
    "# Test sum is equal to cost\n",
    "assert fsum(result) == cost\n",
    "\n",
    "# Test 0 weighted values are equal to 0\n",
    "for i in range(len(weights)):\n",
    "  if (weights[i] == 0):\n",
    "    assert result[i] == 0\n",
    "\n",
    "print('All tests succeded!!')"
   ]
  },
  {
   "cell_type": "code",
   "execution_count": 20,
   "id": "bf1fcf0c",
   "metadata": {},
   "outputs": [
    {
     "name": "stdout",
     "output_type": "stream",
     "text": [
      "prorated costs: [6, 8, 0, 3, 0]\n",
      "rre: 0.5000000000000006\n",
      "All tests succeded!!\n"
     ]
    }
   ],
   "source": [
    "# Test data\n",
    "cost = 17\n",
    "weights = [2, 3, 0, 1, 0]\n",
    "\n",
    "# Calculate result\n",
    "result = get_distribution(cost, weights)\n",
    "print('prorated costs:', result)\n",
    "\n",
    "# Relative rounding error\n",
    "weights_sum = fsum(weights)\n",
    "weighted_costs = [w / weights_sum * cost for w in weights]\n",
    "print('rre:', rre(weighted_costs, result, weights))\n",
    "\n",
    "# Test sum is equal to cost\n",
    "assert fsum(result) == cost\n",
    "\n",
    "# Test 0 weighted values are equal to 0\n",
    "for i in range(len(weights)):\n",
    "  if (weights[i] == 0):\n",
    "    assert result[i] == 0\n",
    "\n",
    "print('All tests succeded!!')"
   ]
  },
  {
   "cell_type": "code",
   "execution_count": 21,
   "id": "64780412",
   "metadata": {},
   "outputs": [
    {
     "name": "stdout",
     "output_type": "stream",
     "text": [
      "prorated costs: [7, 7]\n",
      "rre: 0.0\n",
      "All tests succeded!!\n"
     ]
    }
   ],
   "source": [
    "# Test data\n",
    "cost = 14\n",
    "weights = [4, 4]\n",
    "\n",
    "# Calculate result\n",
    "result = get_distribution(cost, weights)\n",
    "print('prorated costs:', result)\n",
    "\n",
    "# Relative rounding error\n",
    "weights_sum = fsum(weights)\n",
    "weighted_costs = [w / weights_sum * cost for w in weights]\n",
    "print('rre:', rre(weighted_costs, result, weights))\n",
    "\n",
    "# Test sum is equal to cost\n",
    "assert fsum(result) == cost\n",
    "\n",
    "# Test 0 weighted values are equal to 0\n",
    "for i in range(len(weights)):\n",
    "  if (weights[i] == 0):\n",
    "    assert result[i] == 0\n",
    "\n",
    "print('All tests succeded!!')"
   ]
  },
  {
   "cell_type": "markdown",
   "id": "0836bdeb",
   "metadata": {},
   "source": [
    "### Run"
   ]
  },
  {
   "cell_type": "code",
   "execution_count": 14,
   "id": "84615163",
   "metadata": {},
   "outputs": [
    {
     "name": "stdout",
     "output_type": "stream",
     "text": [
      "-0.5\n",
      "2.5\n",
      "7.5\n",
      "-0.5\n",
      "2.5\n",
      "-10.0\n",
      "prorated costs: [9, 4, 0, 2, 0]\n"
     ]
    }
   ],
   "source": [
    "# Input data\n",
    "cost = 15 # Modify\n",
    "weights = [0.5, 0.2, 0, 0.1, 0] # Modify\n",
    "\n",
    "# Calculate result\n",
    "result = get_distribution(cost, weights)\n",
    "print('prorated costs:', result)"
   ]
  },
  {
   "cell_type": "markdown",
   "id": "0bed03d7",
   "metadata": {},
   "source": [
    "## Challenge 3: Water jugs"
   ]
  },
  {
   "cell_type": "markdown",
   "id": "16c43f5a",
   "metadata": {},
   "source": [
    "I have solved this challenge by using a **BFS**. I'm sure that there are better methods but this one is easy and clean. Even though is not very efficient, it could be easily improved by adding code conditions, which I have not done now to maintain the code clean and simple."
   ]
  },
  {
   "cell_type": "code",
   "execution_count": 26,
   "id": "7d80eea5",
   "metadata": {},
   "outputs": [],
   "source": [
    "def get_optimal_sequence(jugs_capacities, target_volume):\n",
    "    \"\"\"Finds a sequence of operations that will yield a state\n",
    "      where at least one jug contains a target volume of water.\n",
    "\n",
    "    Args:\n",
    "      target_volume: The target volume to obtain.\n",
    "      jugs_capacities: List of jugs' capacities\n",
    "\n",
    "    Returns:\n",
    "      Sequence of operations  to reach a state where at least\n",
    "      one jug has the target volume of water in it.\n",
    "    \"\"\"\n",
    "    m = {}\n",
    "    m_seq = {}\n",
    "    is_solvable = False\n",
    "\n",
    "    q = deque()\n",
    "\n",
    "    n = len(jugs_capacities)\n",
    "    initial_state = tuple([0 for _ in range(n)])\n",
    "    if target_volume in initial_state:\n",
    "        return []\n",
    "  \n",
    "    q.append(initial_state)\n",
    "\n",
    "    while len(q) > 0:\n",
    "\n",
    "        # Current state\n",
    "        s = q.popleft()\n",
    "\n",
    "        # If the state is already visited\n",
    "        if s in m:\n",
    "            continue\n",
    "\n",
    "        # Initialize reached states array\n",
    "        m[s] = []\n",
    "        m_seq[s] = []\n",
    "    \n",
    "        # Obtain reached states from current state\n",
    "        for src_jug in range(n):\n",
    "\n",
    "            # Fill jug\n",
    "            if s[src_jug] < jugs_capacities[src_jug]:\n",
    "                reached_state = list(s)\n",
    "                reached_state[src_jug] = jugs_capacities[src_jug]\n",
    "                reached_state = tuple(reached_state)\n",
    "                if target_volume in reached_state:\n",
    "                    is_solvable = True\n",
    "                m[s].append(reached_state)\n",
    "                m_seq[s].append((-1, src_jug))\n",
    "\n",
    "            # Empty jug\n",
    "            if s[src_jug] > 0:\n",
    "                reached_state = list(s)\n",
    "                reached_state[src_jug] = 0\n",
    "                reached_state = tuple(reached_state)\n",
    "                if target_volume in reached_state:\n",
    "                    is_solvable = True\n",
    "                m[s].append(reached_state)\n",
    "                m_seq[s].append((src_jug, -1))\n",
    "        \n",
    "            # Pour jug into another jug\n",
    "            for dest_jug in range(n):\n",
    "        \n",
    "                if s[src_jug] != 0 and \\\n",
    "                    src_jug != dest_jug and \\\n",
    "                    s[dest_jug] < jugs_capacities[dest_jug]:\n",
    "\n",
    "                    reached_state = list(s)\n",
    "                    total = reached_state[dest_jug] + reached_state[src_jug]\n",
    "\n",
    "                    if total > jugs_capacities[dest_jug]:\n",
    "                        reached_state[dest_jug] = jugs_capacities[dest_jug]\n",
    "                        reached_state[src_jug] = total - jugs_capacities[dest_jug]\n",
    "                    else:\n",
    "                        reached_state[dest_jug] = total\n",
    "                        reached_state[src_jug] = 0\n",
    "\n",
    "                    if target_volume in reached_state:\n",
    "                        is_solvable = True\n",
    "\n",
    "                    reached_state = tuple(reached_state)\n",
    "                    m[s].append(reached_state)\n",
    "                    m_seq[s].append((src_jug, dest_jug))\n",
    "      \n",
    "        # Add unvisited states to queue\n",
    "        for reached_state in m[s]:\n",
    "            if reached_state not in m:\n",
    "                q.append(reached_state)\n",
    "  \n",
    "    # Unsolvable case\n",
    "    if not is_solvable:\n",
    "        return None\n",
    "  \n",
    "    # Find best path\n",
    "    best_path = []\n",
    "    best_seq = []\n",
    "  \n",
    "    def find_best_path(path, seq, best_path, best_seq):\n",
    "        if target_volume in path[-1] and \\\n",
    "                (len(path) <= len(best_path) or len(best_path) == 0):\n",
    "            best_path[:] = path[:]\n",
    "            best_seq[:] = seq[:]\n",
    "        else:\n",
    "            for i, reached_state in enumerate(m[path[-1]]):\n",
    "                if reached_state not in path and \\\n",
    "                        (len(path) <= len(best_path) or len(best_path) == 0):\n",
    "                    seq.append(m_seq[path[-1]][i])\n",
    "                    path.append(reached_state)\n",
    "                    find_best_path(path, seq, best_path, best_seq)\n",
    "                    seq.pop()\n",
    "                    path.pop()\n",
    "    \n",
    "    find_best_path([initial_state], [], best_path, best_seq)\n",
    "  \n",
    "    return best_seq"
   ]
  },
  {
   "cell_type": "markdown",
   "id": "fc724d4b",
   "metadata": {},
   "source": [
    "### Useful functions"
   ]
  },
  {
   "cell_type": "code",
   "execution_count": 28,
   "id": "b5fafc70",
   "metadata": {},
   "outputs": [],
   "source": [
    "def pour(src, dest, state, capacities):\n",
    "    \"\"\"Return next state (only for valid operations)\"\"\"\n",
    "    next_state = list(state)\n",
    "    if src == -1:\n",
    "        next_state[dest] = capacities[dest]\n",
    "    elif dest == -1:\n",
    "        next_state[src] = 0\n",
    "    else:\n",
    "        total = next_state[dest] + next_state[src]\n",
    "        if total > capacities[dest]:\n",
    "            next_state[dest] = capacities[dest]\n",
    "            next_state[src] = total - capacities[dest]\n",
    "        else:\n",
    "            next_state[dest] = total\n",
    "            next_state[src] = 0\n",
    "    return tuple(next_state)"
   ]
  },
  {
   "cell_type": "code",
   "execution_count": 29,
   "id": "15e26544",
   "metadata": {},
   "outputs": [],
   "source": [
    "def beautiful_print(actions, jugs_capacities):\n",
    "    \"\"\"Prints the sequence of operations and the results\n",
    "\n",
    "    Args:\n",
    "      actions: Sequence of actions\n",
    "      jugs_capacities: List of jugs' capacities\n",
    "    \"\"\"\n",
    "    n = len(jugs_capacities)\n",
    "    state = tuple([0 for _ in range(n)])\n",
    "    print(state)\n",
    "    for action in actions:\n",
    "        state = pour(action[0], action[1], state, jugs_capacities)\n",
    "        print(action, '->', state)\n",
    "    print('\\n')\n",
    "    print('Number of actions:', len(actions))\n",
    "    print('Sequence:', actions)"
   ]
  },
  {
   "cell_type": "markdown",
   "id": "d2ea4c49",
   "metadata": {},
   "source": [
    "### Tests"
   ]
  },
  {
   "cell_type": "code",
   "execution_count": 30,
   "id": "770b8ee6",
   "metadata": {},
   "outputs": [
    {
     "name": "stdout",
     "output_type": "stream",
     "text": [
      "(0, 0)\n",
      "(-1, 1) -> (0, 5)\n",
      "(1, 0) -> (3, 2)\n",
      "(0, -1) -> (0, 2)\n",
      "(1, 0) -> (2, 0)\n",
      "(-1, 1) -> (2, 5)\n",
      "(1, 0) -> (3, 4)\n",
      "\n",
      "\n",
      "Number of actions: 6\n",
      "Sequence: [(-1, 1), (1, 0), (0, -1), (1, 0), (-1, 1), (1, 0)]\n"
     ]
    }
   ],
   "source": [
    "# Inputs\n",
    "capacities = [3, 5]\n",
    "target = 4\n",
    "\n",
    "# Optimal sequence\n",
    "actions = get_optimal_sequence(capacities, target)\n",
    "beautiful_print(actions, capacities)"
   ]
  },
  {
   "cell_type": "code",
   "execution_count": 31,
   "id": "43d5a01c",
   "metadata": {},
   "outputs": [
    {
     "name": "stdout",
     "output_type": "stream",
     "text": [
      "(0, 0)\n",
      "(-1, 1) -> (0, 5)\n",
      "\n",
      "\n",
      "Number of actions: 1\n",
      "Sequence: [(-1, 1)]\n"
     ]
    }
   ],
   "source": [
    "# Inputs\n",
    "capacities = [2, 5]\n",
    "target = 5\n",
    "\n",
    "# Optimal sequence\n",
    "actions = get_optimal_sequence(capacities, target)\n",
    "beautiful_print(actions, capacities)"
   ]
  },
  {
   "cell_type": "code",
   "execution_count": 32,
   "id": "ea507fe3",
   "metadata": {},
   "outputs": [
    {
     "name": "stdout",
     "output_type": "stream",
     "text": [
      "(0, 0)\n",
      "\n",
      "\n",
      "Number of actions: 0\n",
      "Sequence: []\n"
     ]
    }
   ],
   "source": [
    "# Inputs\n",
    "capacities = [2, 5]\n",
    "target = 0\n",
    "\n",
    "# Optimal sequence\n",
    "actions = get_optimal_sequence(capacities, target)\n",
    "beautiful_print(actions, capacities)"
   ]
  },
  {
   "cell_type": "code",
   "execution_count": 33,
   "id": "c7bf65c1",
   "metadata": {},
   "outputs": [
    {
     "name": "stdout",
     "output_type": "stream",
     "text": [
      "(0, 0, 0)\n",
      "(-1, 1) -> (0, 5, 0)\n",
      "(1, 2) -> (0, 2, 3)\n",
      "(2, 0) -> (3, 2, 0)\n",
      "(1, 2) -> (3, 0, 2)\n",
      "(-1, 1) -> (3, 5, 2)\n",
      "(1, 2) -> (3, 4, 3)\n",
      "\n",
      "\n",
      "Number of actions: 6\n",
      "Sequence: [(-1, 1), (1, 2), (2, 0), (1, 2), (-1, 1), (1, 2)]\n"
     ]
    }
   ],
   "source": [
    "# Inputs\n",
    "capacities = [8, 5, 3]\n",
    "target = 4\n",
    "\n",
    "# Optimal sequence\n",
    "actions = get_optimal_sequence(capacities, target)\n",
    "beautiful_print(actions, capacities)"
   ]
  },
  {
   "cell_type": "code",
   "execution_count": 34,
   "id": "91bbc378",
   "metadata": {},
   "outputs": [
    {
     "name": "stdout",
     "output_type": "stream",
     "text": [
      "Success!!\n"
     ]
    }
   ],
   "source": [
    "# Inputs\n",
    "capacities = [8, 5, 3]\n",
    "target = 20\n",
    "\n",
    "# Optimal sequence\n",
    "actions = get_optimal_sequence(capacities, target)\n",
    "\n",
    "# Test that returns None when there is no possible path\n",
    "assert actions is None\n",
    "print('Success!!')"
   ]
  },
  {
   "cell_type": "markdown",
   "id": "d1a61928",
   "metadata": {},
   "source": [
    "### Run"
   ]
  },
  {
   "cell_type": "code",
   "execution_count": 35,
   "id": "299d9ce2",
   "metadata": {},
   "outputs": [
    {
     "name": "stdout",
     "output_type": "stream",
     "text": [
      "(0, 0, 0)\n",
      "(-1, 1) -> (0, 5, 0)\n",
      "(1, 2) -> (0, 2, 3)\n",
      "(2, 0) -> (3, 2, 0)\n",
      "(1, 2) -> (3, 0, 2)\n",
      "(-1, 1) -> (3, 5, 2)\n",
      "(1, 2) -> (3, 4, 3)\n",
      "\n",
      "\n",
      "Number of actions: 6\n",
      "Sequence: [(-1, 1), (1, 2), (2, 0), (1, 2), (-1, 1), (1, 2)]\n"
     ]
    }
   ],
   "source": [
    "# Inputs\n",
    "capacities = [8, 5, 3] # Modify\n",
    "target = 4 # Modify\n",
    "\n",
    "# Optimal sequence\n",
    "actions = get_optimal_sequence(capacities, target)\n",
    "\n",
    "# Print\n",
    "if actions is None:\n",
    "  print('Not solvable')\n",
    "else:\n",
    "  beautiful_print(actions, capacities)"
   ]
  },
  {
   "cell_type": "code",
   "execution_count": null,
   "id": "145c46e7",
   "metadata": {},
   "outputs": [],
   "source": []
  }
 ],
 "metadata": {
  "kernelspec": {
   "display_name": "Python 3",
   "language": "python",
   "name": "python3"
  },
  "language_info": {
   "codemirror_mode": {
    "name": "ipython",
    "version": 3
   },
   "file_extension": ".py",
   "mimetype": "text/x-python",
   "name": "python",
   "nbconvert_exporter": "python",
   "pygments_lexer": "ipython3",
   "version": "3.9.2"
  }
 },
 "nbformat": 4,
 "nbformat_minor": 5
}
